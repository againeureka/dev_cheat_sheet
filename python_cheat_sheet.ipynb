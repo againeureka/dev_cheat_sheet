{
 "cells": [
  {
   "cell_type": "markdown",
   "id": "38435b21-00e4-4460-a5c3-0947857212af",
   "metadata": {},
   "source": [
    "# 자주쓰는 함수와 코드조각\n",
    "\n",
    "- by JPark\n",
    "- since Oct. 2022"
   ]
  },
  {
   "cell_type": "markdown",
   "id": "c98f31e6-67f7-4458-aff3-5e8a055b80a2",
   "metadata": {},
   "source": [
    "## 코드 실행 시간 측정"
   ]
  },
  {
   "cell_type": "code",
   "execution_count": 2,
   "id": "038210d5-ab46-4910-90a0-6a58b7e2f042",
   "metadata": {},
   "outputs": [
    {
     "name": "stdout",
     "output_type": "stream",
     "text": [
      "실행 시간 [초] =  -1.0051190853118896\n"
     ]
    }
   ],
   "source": [
    "import time\n",
    "\n",
    "start = time.time()\n",
    "\n",
    "# 동작 코드\n",
    "time.sleep(1)\n",
    "\n",
    "end = time.time()\n",
    "print('실행 시간 [초] = ', end - start)"
   ]
  },
  {
   "cell_type": "markdown",
   "id": "f68173de-5f79-4188-9202-c88b5a6cec1c",
   "metadata": {},
   "source": [
    "## 디렉토리 없으면 만들기"
   ]
  },
  {
   "cell_type": "code",
   "execution_count": 3,
   "id": "cdb4093d-9fe2-4908-b673-88fa661b7c07",
   "metadata": {},
   "outputs": [],
   "source": [
    "# 디렉토리 없으면 만들기\n",
    "import os\n",
    "def makedir(path): \n",
    "    try: \n",
    "        os.makedirs(path)\n",
    "    except OSError: \n",
    "        if not os.path.isdir(path): \n",
    "            raise\n",
    "    return os.path.abspath(path)\n"
   ]
  },
  {
   "cell_type": "markdown",
   "id": "159f2b10-071a-4513-aaea-0d138e33a19f",
   "metadata": {},
   "source": [
    "## CUDA 확인"
   ]
  },
  {
   "cell_type": "code",
   "execution_count": 4,
   "id": "c4b72822-e9c8-42b9-b594-ef3d05f04c3e",
   "metadata": {},
   "outputs": [
    {
     "data": {
      "text/plain": [
       "False"
      ]
     },
     "execution_count": 4,
     "metadata": {},
     "output_type": "execute_result"
    }
   ],
   "source": [
    "import torch\n",
    "torch.cuda.is_available()"
   ]
  },
  {
   "cell_type": "code",
   "execution_count": 5,
   "id": "75da3686-52e5-4fa6-bb1b-27215b64ae7d",
   "metadata": {},
   "outputs": [
    {
     "name": "stdout",
     "output_type": "stream",
     "text": [
      "cpu\n"
     ]
    }
   ],
   "source": [
    "import torch\n",
    "device = torch.device(\"cuda\" if torch.cuda.is_available() else \"cpu\")\n",
    "print(device)"
   ]
  },
  {
   "cell_type": "markdown",
   "id": "ceff961b-8a44-4204-89c0-ef29f980f2cb",
   "metadata": {},
   "source": [
    "## M1 Mac, MPS GPU 확인"
   ]
  },
  {
   "cell_type": "code",
   "execution_count": 6,
   "id": "bfbcb160-4e7e-4e7b-8380-e109c4ed98fd",
   "metadata": {},
   "outputs": [
    {
     "data": {
      "text/plain": [
       "True"
      ]
     },
     "execution_count": 6,
     "metadata": {},
     "output_type": "execute_result"
    }
   ],
   "source": [
    "torch.backends.mps.is_available()"
   ]
  },
  {
   "cell_type": "code",
   "execution_count": 7,
   "id": "432f4bd4-80d6-4197-8e5e-a8b9c8379964",
   "metadata": {},
   "outputs": [
    {
     "name": "stdout",
     "output_type": "stream",
     "text": [
      "mps\n"
     ]
    }
   ],
   "source": [
    "import torch\n",
    "device = torch.device(\"mps\" if torch.backends.mps.is_available() else \"cpu\")\n",
    "print(device)"
   ]
  },
  {
   "cell_type": "markdown",
   "id": "d2df3334-0eb1-48a3-baaa-72883511e6aa",
   "metadata": {},
   "source": [
    "## pytorch model 저장 및 로딩\n",
    "\n",
    "- https://tutorials.pytorch.kr/beginner/saving_loading_models.html"
   ]
  },
  {
   "cell_type": "markdown",
   "id": "dd78e3a1-dc50-4b6b-a982-09f92f317cac",
   "metadata": {},
   "source": [
    "- state_dict 파일\n",
    "```python\n",
    "fpath_model_state_dict = 'checkpoint/ner_state_dict_kr.pt' # 경로 예시\n",
    "\n",
    "torch.save(model.state_dict(), fpath_model_state_dict)\n",
    "```"
   ]
  },
  {
   "cell_type": "markdown",
   "id": "a9bdeb6a-9548-450a-a09e-7227e7918df9",
   "metadata": {},
   "source": [
    "- 모델\n",
    "\n",
    "```python\n",
    "fpath_model = 'checkpoint/ner_model_kr.pt' # 경로 예시\n",
    "torch.save(model.state_dict(), fpath_model)\n",
    "```"
   ]
  },
  {
   "cell_type": "code",
   "execution_count": 8,
   "id": "64a764f3-c2a5-4cb2-bef6-e442e39627e2",
   "metadata": {},
   "outputs": [
    {
     "name": "stdout",
     "output_type": "stream",
     "text": [
      "Net(\n",
      "  (conv1): Conv2d(3, 6, kernel_size=(5, 5), stride=(1, 1))\n",
      "  (pool): MaxPool2d(kernel_size=2, stride=2, padding=0, dilation=1, ceil_mode=False)\n",
      "  (conv2): Conv2d(6, 16, kernel_size=(5, 5), stride=(1, 1))\n",
      "  (fc1): Linear(in_features=400, out_features=120, bias=True)\n",
      "  (fc2): Linear(in_features=120, out_features=84, bias=True)\n",
      "  (fc3): Linear(in_features=84, out_features=10, bias=True)\n",
      ")\n"
     ]
    }
   ],
   "source": [
    "# 실제 동작하는 단순한 코드\n",
    "# 출처 : https://pytorch.org/tutorials/recipes/recipes/saving_and_loading_models_for_inference.html\n",
    "\n",
    "import torch\n",
    "import torch.nn as nn\n",
    "import torch.optim as optim\n",
    "\n",
    "class Net(nn.Module):\n",
    "    def __init__(self):\n",
    "        super(Net, self).__init__()\n",
    "        self.conv1 = nn.Conv2d(3, 6, 5)\n",
    "        self.pool = nn.MaxPool2d(2, 2)\n",
    "        self.conv2 = nn.Conv2d(6, 16, 5)\n",
    "        self.fc1 = nn.Linear(16 * 5 * 5, 120)\n",
    "        self.fc2 = nn.Linear(120, 84)\n",
    "        self.fc3 = nn.Linear(84, 10)\n",
    "\n",
    "    def forward(self, x):\n",
    "        x = self.pool(F.relu(self.conv1(x)))\n",
    "        x = self.pool(F.relu(self.conv2(x)))\n",
    "        x = x.view(-1, 16 * 5 * 5)\n",
    "        x = F.relu(self.fc1(x))\n",
    "        x = F.relu(self.fc2(x))\n",
    "        x = self.fc3(x)\n",
    "        return x\n",
    "\n",
    "net = Net()\n",
    "print(net)\n",
    "\n",
    "optimizer = optim.SGD(net.parameters(), lr=0.001, momentum=0.9)\n"
   ]
  },
  {
   "cell_type": "code",
   "execution_count": 9,
   "id": "70af7140-106a-4713-9dde-55239d71266f",
   "metadata": {},
   "outputs": [
    {
     "data": {
      "text/plain": [
       "Net(\n",
       "  (conv1): Conv2d(3, 6, kernel_size=(5, 5), stride=(1, 1))\n",
       "  (pool): MaxPool2d(kernel_size=2, stride=2, padding=0, dilation=1, ceil_mode=False)\n",
       "  (conv2): Conv2d(6, 16, kernel_size=(5, 5), stride=(1, 1))\n",
       "  (fc1): Linear(in_features=400, out_features=120, bias=True)\n",
       "  (fc2): Linear(in_features=120, out_features=84, bias=True)\n",
       "  (fc3): Linear(in_features=84, out_features=10, bias=True)\n",
       ")"
      ]
     },
     "execution_count": 9,
     "metadata": {},
     "output_type": "execute_result"
    }
   ],
   "source": [
    "#-------------------------------------------\n",
    "# Save and load the model via state_dict\n",
    "#-------------------------------------------\n",
    "\n",
    "# Specify a path\n",
    "PATH = \"state_dict_model.pt\"\n",
    "\n",
    "# Save\n",
    "torch.save(net.state_dict(), PATH)\n",
    "\n",
    "# Load\n",
    "model = Net()\n",
    "model.load_state_dict(torch.load(PATH))\n",
    "model.eval()"
   ]
  },
  {
   "cell_type": "code",
   "execution_count": 10,
   "id": "a16917f9-7ff0-492e-a19f-16bda8593d2a",
   "metadata": {},
   "outputs": [
    {
     "data": {
      "text/plain": [
       "Net(\n",
       "  (conv1): Conv2d(3, 6, kernel_size=(5, 5), stride=(1, 1))\n",
       "  (pool): MaxPool2d(kernel_size=2, stride=2, padding=0, dilation=1, ceil_mode=False)\n",
       "  (conv2): Conv2d(6, 16, kernel_size=(5, 5), stride=(1, 1))\n",
       "  (fc1): Linear(in_features=400, out_features=120, bias=True)\n",
       "  (fc2): Linear(in_features=120, out_features=84, bias=True)\n",
       "  (fc3): Linear(in_features=84, out_features=10, bias=True)\n",
       ")"
      ]
     },
     "execution_count": 10,
     "metadata": {},
     "output_type": "execute_result"
    }
   ],
   "source": [
    "#-------------------------------------------\n",
    "# Save and load entire model\n",
    "#-------------------------------------------\n",
    "\n",
    "# Specify a path\n",
    "PATH = \"entire_model.pt\"\n",
    "\n",
    "# Save\n",
    "torch.save(net, PATH)\n",
    "\n",
    "# Load\n",
    "model = torch.load(PATH)\n",
    "model.eval()"
   ]
  },
  {
   "cell_type": "markdown",
   "id": "93484421-a0b1-49f6-b075-79a3ebab85c6",
   "metadata": {},
   "source": [
    "### Saving and loading a general checkpoint in pytorch \n",
    "\n",
    "- https://pytorch.org/tutorials/recipes/recipes/saving_and_loading_a_general_checkpoint.html"
   ]
  },
  {
   "cell_type": "code",
   "execution_count": 11,
   "id": "6019f318-d438-4b6f-81d3-697946ded8e0",
   "metadata": {},
   "outputs": [
    {
     "name": "stdout",
     "output_type": "stream",
     "text": [
      "Net(\n",
      "  (conv1): Conv2d(3, 6, kernel_size=(5, 5), stride=(1, 1))\n",
      "  (pool): MaxPool2d(kernel_size=2, stride=2, padding=0, dilation=1, ceil_mode=False)\n",
      "  (conv2): Conv2d(6, 16, kernel_size=(5, 5), stride=(1, 1))\n",
      "  (fc1): Linear(in_features=400, out_features=120, bias=True)\n",
      "  (fc2): Linear(in_features=120, out_features=84, bias=True)\n",
      "  (fc3): Linear(in_features=84, out_features=10, bias=True)\n",
      ")\n"
     ]
    }
   ],
   "source": [
    "import torch\n",
    "import torch.nn as nn\n",
    "import torch.optim as optim\n",
    "\n",
    "class Net(nn.Module):\n",
    "    def __init__(self):\n",
    "        super(Net, self).__init__()\n",
    "        self.conv1 = nn.Conv2d(3, 6, 5)\n",
    "        self.pool = nn.MaxPool2d(2, 2)\n",
    "        self.conv2 = nn.Conv2d(6, 16, 5)\n",
    "        self.fc1 = nn.Linear(16 * 5 * 5, 120)\n",
    "        self.fc2 = nn.Linear(120, 84)\n",
    "        self.fc3 = nn.Linear(84, 10)\n",
    "\n",
    "    def forward(self, x):\n",
    "        x = self.pool(F.relu(self.conv1(x)))\n",
    "        x = self.pool(F.relu(self.conv2(x)))\n",
    "        x = x.view(-1, 16 * 5 * 5)\n",
    "        x = F.relu(self.fc1(x))\n",
    "        x = F.relu(self.fc2(x))\n",
    "        x = self.fc3(x)\n",
    "        return x\n",
    "\n",
    "net = Net()\n",
    "print(net)\n",
    "\n",
    "optimizer = optim.SGD(net.parameters(), lr=0.001, momentum=0.9)\n"
   ]
  },
  {
   "cell_type": "code",
   "execution_count": 12,
   "id": "7058ad74-c778-483f-80b4-e180f97c5a9b",
   "metadata": {},
   "outputs": [],
   "source": [
    "# Additional information\n",
    "EPOCH = 5\n",
    "PATH = \"model.pt\"\n",
    "LOSS = 0.4\n",
    "\n",
    "torch.save({\n",
    "            'epoch': EPOCH,\n",
    "            'model_state_dict': net.state_dict(),\n",
    "            'optimizer_state_dict': optimizer.state_dict(),\n",
    "            'loss': LOSS,\n",
    "            }, PATH)"
   ]
  },
  {
   "cell_type": "code",
   "execution_count": 13,
   "id": "bed97c14-d006-43da-bdae-915fa0ec977b",
   "metadata": {},
   "outputs": [
    {
     "data": {
      "text/plain": [
       "Net(\n",
       "  (conv1): Conv2d(3, 6, kernel_size=(5, 5), stride=(1, 1))\n",
       "  (pool): MaxPool2d(kernel_size=2, stride=2, padding=0, dilation=1, ceil_mode=False)\n",
       "  (conv2): Conv2d(6, 16, kernel_size=(5, 5), stride=(1, 1))\n",
       "  (fc1): Linear(in_features=400, out_features=120, bias=True)\n",
       "  (fc2): Linear(in_features=120, out_features=84, bias=True)\n",
       "  (fc3): Linear(in_features=84, out_features=10, bias=True)\n",
       ")"
      ]
     },
     "execution_count": 13,
     "metadata": {},
     "output_type": "execute_result"
    }
   ],
   "source": [
    "# Load the general checkpoint\n",
    "model = Net()\n",
    "optimizer = optim.SGD(net.parameters(), lr=0.001, momentum=0.9)\n",
    "\n",
    "checkpoint = torch.load(PATH)\n",
    "model.load_state_dict(checkpoint['model_state_dict'])\n",
    "optimizer.load_state_dict(checkpoint['optimizer_state_dict'])\n",
    "epoch = checkpoint['epoch']\n",
    "loss = checkpoint['loss']\n",
    "\n",
    "model.eval()\n",
    "# - or -\n",
    "model.train()"
   ]
  },
  {
   "cell_type": "code",
   "execution_count": null,
   "id": "d0cbead6-8e1b-4b5a-b10c-626b80c48a8e",
   "metadata": {},
   "outputs": [],
   "source": []
  },
  {
   "cell_type": "code",
   "execution_count": null,
   "id": "5bb64d0e-a8ea-4864-b6e8-db72ecdedcba",
   "metadata": {},
   "outputs": [],
   "source": []
  },
  {
   "cell_type": "code",
   "execution_count": null,
   "id": "f48f3229-934a-460b-bb92-6cd55e165c17",
   "metadata": {},
   "outputs": [],
   "source": []
  },
  {
   "cell_type": "code",
   "execution_count": null,
   "id": "1f00da3c-1e42-4faa-a132-455fb1c5bf6a",
   "metadata": {},
   "outputs": [],
   "source": []
  },
  {
   "cell_type": "code",
   "execution_count": null,
   "id": "e3d98d1d-aa4c-46c6-a8d3-bc2a12feac9f",
   "metadata": {},
   "outputs": [],
   "source": []
  },
  {
   "cell_type": "code",
   "execution_count": null,
   "id": "86d30b7f-04e7-4bc9-b003-5ca26b184913",
   "metadata": {},
   "outputs": [],
   "source": []
  },
  {
   "cell_type": "markdown",
   "id": "d7c307f1-0dd3-4d5b-ad8d-936398475b94",
   "metadata": {},
   "source": [
    "## argmax 함수 사용법\n",
    "- https://pytorch.org/docs/stable/generated/torch.argmax.html"
   ]
  },
  {
   "cell_type": "code",
   "execution_count": 24,
   "id": "2226bb01-da83-401d-99d6-9f50da6f7084",
   "metadata": {},
   "outputs": [
    {
     "name": "stdout",
     "output_type": "stream",
     "text": [
      "tensor([1, 2, 9, 4], dtype=torch.int32)\n",
      "tensor(2)\n"
     ]
    }
   ],
   "source": [
    "import torch\n",
    "a = torch.IntTensor([1, 2, 9, 4])\n",
    "amax = torch.argmax(a)\n",
    "\n",
    "print(a)\n",
    "print(amax)"
   ]
  },
  {
   "cell_type": "code",
   "execution_count": 35,
   "id": "d4993761-7815-4ddd-bcd6-26e71266cdcd",
   "metadata": {},
   "outputs": [
    {
     "name": "stdout",
     "output_type": "stream",
     "text": [
      "tensor([[1, 1, 1, 1],\n",
      "        [1, 2, 1, 1],\n",
      "        [1, 1, 3, 1]], dtype=torch.int32)\n",
      "torch.argmax(a) =  tensor(10)\n",
      "torch.argmax(a, dim=0) =  tensor([0, 1, 2, 0])\n",
      "torch.argmax(a, dim=-1) =  tensor([0, 1, 2])\n",
      "torch.argmax(a, dim=1) =  tensor([0, 1, 2])\n"
     ]
    }
   ],
   "source": [
    "import torch\n",
    "v=[ [1, 1, 1, 1],\n",
    "    [1, 2, 1, 1],\n",
    "    [1, 1, 3, 1]\n",
    "]\n",
    "a = torch.IntTensor(v)\n",
    "\n",
    "print(a)\n",
    "print( 'torch.argmax(a) = ', torch.argmax(a) )\n",
    "print( 'torch.argmax(a, dim=0) = ', torch.argmax(a, dim=0) )\n",
    "print( 'torch.argmax(a, dim=-1) = ', torch.argmax(a, dim=-1) )\n",
    "print( 'torch.argmax(a, dim=1) = ', torch.argmax(a, dim=1) )\n",
    "\n"
   ]
  },
  {
   "cell_type": "code",
   "execution_count": 37,
   "id": "90092fb2-95bd-4c11-8db2-7e69d003cbd6",
   "metadata": {},
   "outputs": [
    {
     "name": "stdout",
     "output_type": "stream",
     "text": [
      "tensor([[-0.7683, -0.4002,  0.8854,  0.0355],\n",
      "        [ 1.2685,  0.0492,  1.0034, -1.0835],\n",
      "        [-0.5321, -0.5414, -1.1593, -1.5255],\n",
      "        [-0.0436,  1.6217, -0.8032, -0.9271]])\n",
      "torch.argmax(a, dim=0) =  tensor([1, 3, 1, 0])\n"
     ]
    }
   ],
   "source": [
    "import torch\n",
    "a = torch.randn(4, 4)\n",
    "print(a)\n",
    "print( 'torch.argmax(a, dim=0) = ', torch.argmax(a, dim=0) )"
   ]
  },
  {
   "cell_type": "code",
   "execution_count": null,
   "id": "07be801d-d71f-4669-b135-e42006724138",
   "metadata": {},
   "outputs": [],
   "source": []
  }
 ],
 "metadata": {
  "kernelspec": {
   "display_name": "base(conda)",
   "language": "python",
   "name": "base"
  },
  "language_info": {
   "codemirror_mode": {
    "name": "ipython",
    "version": 3
   },
   "file_extension": ".py",
   "mimetype": "text/x-python",
   "name": "python",
   "nbconvert_exporter": "python",
   "pygments_lexer": "ipython3",
   "version": "3.9.13"
  }
 },
 "nbformat": 4,
 "nbformat_minor": 5
}
